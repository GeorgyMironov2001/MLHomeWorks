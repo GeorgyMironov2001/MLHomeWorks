{
 "cells": [
  {
   "cell_type": "markdown",
   "metadata": {
    "id": "NFmOh482SyEF"
   },
   "source": [
    "## Lab 2\n",
    "### Part 2: Dealing with overfitting"
   ]
  },
  {
   "cell_type": "markdown",
   "metadata": {
    "id": "AjzAuO3oSvsI"
   },
   "source": [
    "Today we work with [Fashion-MNIST dataset](https://github.com/zalandoresearch/fashion-mnist) (*hint: it is available in `torchvision`*).\n",
    "\n",
    "Your goal for today:\n",
    "1. Train a FC (fully-connected) network that achieves >= 0.885 test accuracy.\n",
    "2. Cause considerable overfitting by modifying the network (e.g. increasing the number of network parameters and/or layers) and demonstrate in in the appropriate way (e.g. plot loss and accurasy on train and validation set w.r.t. network complexity).\n",
    "3. Try to deal with overfitting (at least partially) by using regularization techniques (Dropout/Batchnorm/...) and demonstrate the results.\n",
    "\n",
    "__Please, write a small report describing your ideas, tries and achieved results in the end of this file.__\n",
    "\n",
    "*Note*: Tasks 2 and 3 are interrelated, in task 3 your goal is to make the network from task 2 less prone to overfitting. Task 1 is independent from 2 and 3.\n",
    "\n",
    "*Note 2*: We recomment to use Google Colab or other machine with GPU acceleration."
   ]
  },
  {
   "cell_type": "code",
   "execution_count": 17,
   "metadata": {
    "id": "_KBld6VOSwhW"
   },
   "outputs": [],
   "source": [
    "import torch\n",
    "import torch.nn as nn\n",
    "import torchvision\n",
    "import torchvision.transforms as transforms\n",
    "import torchsummary\n",
    "from IPython.display import clear_output\n",
    "from matplotlib import pyplot as plt\n",
    "from matplotlib.pyplot import figure\n",
    "import numpy as np\n",
    "import os\n",
    "import time\n",
    "\n",
    "from IPython.display import clear_output\n",
    "\n",
    "device = 'cuda:0' if torch.cuda.is_available() else 'cpu'"
   ]
  },
  {
   "cell_type": "code",
   "execution_count": 18,
   "metadata": {
    "colab": {
     "base_uri": "https://localhost:8080/"
    },
    "id": "EdLOG0XqS_g5",
    "outputId": "ca431010-dd6c-4a23-878e-15331ca6bbf0"
   },
   "outputs": [
    {
     "name": "stdout",
     "output_type": "stream",
     "text": [
      "Directory fmnist already exists!\n"
     ]
    }
   ],
   "source": [
    "# Technical function\n",
    "def mkdir(path):\n",
    "    if not os.path.exists(root_path):\n",
    "        os.mkdir(root_path)\n",
    "        print('Directory', path, 'is created!')\n",
    "    else:\n",
    "        print('Directory', path, 'already exists!')\n",
    "        \n",
    "root_path = 'fmnist'\n",
    "mkdir(root_path)"
   ]
  },
  {
   "cell_type": "code",
   "execution_count": 19,
   "metadata": {
    "id": "qt6LE7XaTDT9"
   },
   "outputs": [],
   "source": [
    "download = True\n",
    "train_transform = transforms.ToTensor()\n",
    "test_transform = transforms.ToTensor()\n",
    "transforms.Compose((transforms.ToTensor()))\n",
    "\n",
    "\n",
    "fmnist_dataset_train = torchvision.datasets.FashionMNIST(root_path, \n",
    "                                                        train=True, \n",
    "                                                        transform=train_transform,\n",
    "                                                        target_transform=None,\n",
    "                                                        download=download)\n",
    "fmnist_dataset_test = torchvision.datasets.FashionMNIST(root_path, \n",
    "                                                       train=False, \n",
    "                                                       transform=test_transform,\n",
    "                                                       target_transform=None,\n",
    "                                                       download=download)"
   ]
  },
  {
   "cell_type": "code",
   "execution_count": 20,
   "metadata": {
    "id": "71YP0SPwTIxD"
   },
   "outputs": [],
   "source": [
    "train_loader = torch.utils.data.DataLoader(fmnist_dataset_train, \n",
    "                                           batch_size=128,\n",
    "                                           shuffle=True,\n",
    "                                           num_workers=2)\n",
    "test_loader = torch.utils.data.DataLoader(fmnist_dataset_test,\n",
    "                                          batch_size=256,\n",
    "                                          shuffle=False,\n",
    "                                          num_workers=2)"
   ]
  },
  {
   "cell_type": "code",
   "execution_count": 21,
   "metadata": {
    "colab": {
     "base_uri": "https://localhost:8080/"
    },
    "id": "v_YFmF7NTWrQ",
    "outputId": "d0fd555f-88b7-4e5d-a75a-f19f5840e9f6"
   },
   "outputs": [
    {
     "data": {
      "text/plain": [
       "10000"
      ]
     },
     "execution_count": 21,
     "metadata": {},
     "output_type": "execute_result"
    }
   ],
   "source": [
    "len(fmnist_dataset_test)"
   ]
  },
  {
   "cell_type": "code",
   "execution_count": 22,
   "metadata": {
    "colab": {
     "base_uri": "https://localhost:8080/"
    },
    "id": "aHca15bOTY4B",
    "outputId": "c2f8c700-45e3-4b85-faa4-ae5228215d4f"
   },
   "outputs": [
    {
     "name": "stdout",
     "output_type": "stream",
     "text": [
      "torch.Size([128, 1, 28, 28])\n",
      "torch.Size([128])\n",
      "128\n"
     ]
    }
   ],
   "source": [
    "for img, label in train_loader:\n",
    "    print(img.shape)\n",
    "#     print(img)\n",
    "    print(label.shape)\n",
    "    print(label.size(0))\n",
    "    break"
   ]
  },
  {
   "cell_type": "markdown",
   "metadata": {
    "id": "b6OOOffHTfX5"
   },
   "source": [
    "### Task 1\n",
    "Train a network that achieves $\\geq 0.885$ test accuracy. It's fine to use only Linear (`nn.Linear`) layers and activations/dropout/batchnorm. Convolutional layers might be a great use, but we will meet them a bit later."
   ]
  },
  {
   "cell_type": "code",
   "execution_count": 28,
   "metadata": {
    "id": "ftpkTjxlTcFx"
   },
   "outputs": [],
   "source": [
    "class TinyNeuralNetwork(nn.Module):\n",
    "    def __init__(self, input_shape=28*28, num_classes=10, input_channels=1):\n",
    "        super(self.__class__, self).__init__()\n",
    "        self.model = nn.Sequential(\n",
    "            nn.Flatten(), # This layer converts image into a vector to use Linear layers afterwards\n",
    "            # Your network structure comes here\n",
    "            nn.Linear(input_shape, 500),\n",
    "            nn.ReLU(),\n",
    "            nn.BatchNorm1d(500),\n",
    "            nn.Linear(500, 200),\n",
    "            nn.ReLU(),\n",
    "            nn.Dropout(p = 0.3),\n",
    "            nn.Linear(200, 10)\n",
    "        )\n",
    "        \n",
    "    def forward(self, inp):       \n",
    "        out = self.model(inp)\n",
    "        return out"
   ]
  },
  {
   "cell_type": "code",
   "execution_count": 29,
   "metadata": {
    "colab": {
     "base_uri": "https://localhost:8080/"
    },
    "id": "Li2isqI_k6no",
    "outputId": "2e1fde13-6140-48fa-e15e-7e35068c8bc8"
   },
   "outputs": [
    {
     "name": "stdout",
     "output_type": "stream",
     "text": [
      "----------------------------------------------------------------\n",
      "        Layer (type)               Output Shape         Param #\n",
      "================================================================\n",
      "           Flatten-1                  [-1, 784]               0\n",
      "            Linear-2                  [-1, 500]         392,500\n",
      "              ReLU-3                  [-1, 500]               0\n",
      "       BatchNorm1d-4                  [-1, 500]           1,000\n",
      "            Linear-5                  [-1, 200]         100,200\n",
      "              ReLU-6                  [-1, 200]               0\n",
      "           Dropout-7                  [-1, 200]               0\n",
      "            Linear-8                   [-1, 10]           2,010\n",
      "================================================================\n",
      "Total params: 495,710\n",
      "Trainable params: 495,710\n",
      "Non-trainable params: 0\n",
      "----------------------------------------------------------------\n",
      "Input size (MB): 0.00\n",
      "Forward/backward pass size (MB): 0.02\n",
      "Params size (MB): 1.89\n",
      "Estimated Total Size (MB): 1.92\n",
      "----------------------------------------------------------------\n"
     ]
    }
   ],
   "source": [
    "torchsummary.summary(TinyNeuralNetwork().to(device), (28*28,))"
   ]
  },
  {
   "cell_type": "code",
   "execution_count": 30,
   "metadata": {
    "id": "G4Aw1USnlV7M"
   },
   "outputs": [],
   "source": [
    "def train_model(model, train_loader, val_loader, loss_fn, opt, n_epochs: int):\n",
    "    train_loss = []\n",
    "    val_loss = []\n",
    "    val_accuracy = []\n",
    "    \n",
    "    for epoch in range(n_epochs):\n",
    "        ep_train_loss = []\n",
    "        ep_val_loss = []\n",
    "        ep_val_accuracy = []\n",
    "        start_time = time.time()\n",
    "\n",
    "        model.train(True) # enable dropout / batch_norm training behavior\n",
    "        for X_batch, y_batch in train_loader:\n",
    "            X_batch, y_batch = X_batch.to(device), y_batch.to(device) \n",
    "            # move data to target device\n",
    "            ### YOUR CODE HERE\n",
    "            y_pred = model(X_batch)\n",
    "            loss = loss_fn(y_pred, y_batch)\n",
    "\n",
    "            loss.backward()\n",
    "            opt.step()\n",
    "            opt.zero_grad()\n",
    "            # train on batch: compute loss, calc grads, perform optimizer step and zero the grads\n",
    "            ### YOUR CODE HERE\n",
    "            ep_train_loss.append(loss.item())\n",
    "\n",
    "        model.train(False) # disable dropout / use averages for batch_norm\n",
    "        with torch.no_grad():\n",
    "            for X_batch, y_batch in val_loader:\n",
    "                X_batch, y_batch = X_batch.to(device), y_batch.to(device) \n",
    "                # move data to target device\n",
    "                ### YOUR CODE HERE\n",
    "\n",
    "                y_pred = model(X_batch)\n",
    "                loss = loss_fn(y_pred, y_batch)\n",
    "\n",
    "                # compute predictions\n",
    "                ### YOUR CODE HERE\n",
    "                ep_val_loss.append(loss.item())\n",
    "                y_gt = y_batch.cpu().numpy().ravel()\n",
    "                preds = np.argmax(y_pred.detach().cpu().numpy(), axis=1).ravel()\n",
    "                ep_val_accuracy.append(np.mean((y_gt == preds).astype(float)))\n",
    "\n",
    "        # print the results for this epoch:\n",
    "        print(f'Epoch {epoch + 1} of {n_epochs} took {time.time() - start_time:.3f}s')\n",
    "\n",
    "        train_loss.append(np.mean(ep_train_loss))\n",
    "        val_loss.append(np.mean(ep_val_loss))\n",
    "        val_accuracy.append(np.mean(ep_val_accuracy))\n",
    "        \n",
    "        print(f\"\\t  training loss: {train_loss[-1]:.6f}\")\n",
    "        print(f\"\\tvalidation loss: {val_loss[-1]:.6f}\")\n",
    "        print(f\"\\tvalidation accuracy: {val_accuracy[-1]:.3f}\")\n",
    "\n",
    "    return train_loss, val_loss, val_accuracy"
   ]
  },
  {
   "cell_type": "markdown",
   "metadata": {
    "id": "544PGKEnjPr5"
   },
   "source": [
    "Your experiments come here:"
   ]
  },
  {
   "cell_type": "code",
   "execution_count": 31,
   "metadata": {
    "id": "i3POFj90Ti-6"
   },
   "outputs": [],
   "source": [
    "model = TinyNeuralNetwork().to(device)\n",
    "opt = torch.optim.Adam(model.parameters(), lr=1e-3)\n",
    "loss_func = nn.CrossEntropyLoss()\n",
    "opt.zero_grad()\n",
    "# Your experiments, training and validation loops here"
   ]
  },
  {
   "cell_type": "code",
   "execution_count": 32,
   "metadata": {
    "colab": {
     "base_uri": "https://localhost:8080/"
    },
    "id": "JQ2RiHDloC-h",
    "outputId": "43dc0953-b1a9-476b-ac97-5f894814e3f7"
   },
   "outputs": [
    {
     "name": "stdout",
     "output_type": "stream",
     "text": [
      "Epoch 1 of 30 took 9.623s\n",
      "\t  training loss: 0.456114\n",
      "\tvalidation loss: 0.398191\n",
      "\tvalidation accuracy: 0.856\n",
      "Epoch 2 of 30 took 9.276s\n",
      "\t  training loss: 0.364702\n",
      "\tvalidation loss: 0.384143\n",
      "\tvalidation accuracy: 0.861\n",
      "Epoch 3 of 30 took 9.555s\n",
      "\t  training loss: 0.341798\n",
      "\tvalidation loss: 0.400237\n",
      "\tvalidation accuracy: 0.852\n",
      "Epoch 4 of 30 took 9.349s\n",
      "\t  training loss: 0.324070\n",
      "\tvalidation loss: 0.379519\n",
      "\tvalidation accuracy: 0.869\n",
      "Epoch 5 of 30 took 9.402s\n",
      "\t  training loss: 0.301660\n",
      "\tvalidation loss: 0.372663\n",
      "\tvalidation accuracy: 0.865\n",
      "Epoch 6 of 30 took 9.300s\n",
      "\t  training loss: 0.288708\n",
      "\tvalidation loss: 0.345870\n",
      "\tvalidation accuracy: 0.878\n",
      "Epoch 7 of 30 took 9.344s\n",
      "\t  training loss: 0.276944\n",
      "\tvalidation loss: 0.349619\n",
      "\tvalidation accuracy: 0.876\n",
      "Epoch 8 of 30 took 9.405s\n",
      "\t  training loss: 0.269153\n",
      "\tvalidation loss: 0.343594\n",
      "\tvalidation accuracy: 0.880\n",
      "Epoch 9 of 30 took 9.249s\n",
      "\t  training loss: 0.260400\n",
      "\tvalidation loss: 0.350427\n",
      "\tvalidation accuracy: 0.875\n",
      "Epoch 10 of 30 took 9.282s\n",
      "\t  training loss: 0.249434\n",
      "\tvalidation loss: 0.340976\n",
      "\tvalidation accuracy: 0.889\n",
      "Epoch 11 of 30 took 11.484s\n",
      "\t  training loss: 0.241919\n",
      "\tvalidation loss: 0.336348\n",
      "\tvalidation accuracy: 0.889\n",
      "Epoch 12 of 30 took 11.556s\n",
      "\t  training loss: 0.233431\n",
      "\tvalidation loss: 0.329738\n",
      "\tvalidation accuracy: 0.885\n",
      "Epoch 13 of 30 took 9.248s\n",
      "\t  training loss: 0.228331\n",
      "\tvalidation loss: 0.343680\n",
      "\tvalidation accuracy: 0.883\n",
      "Epoch 14 of 30 took 9.330s\n",
      "\t  training loss: 0.224389\n",
      "\tvalidation loss: 0.333364\n",
      "\tvalidation accuracy: 0.884\n",
      "Epoch 15 of 30 took 9.316s\n",
      "\t  training loss: 0.218238\n",
      "\tvalidation loss: 0.353765\n",
      "\tvalidation accuracy: 0.879\n",
      "Epoch 16 of 30 took 9.424s\n",
      "\t  training loss: 0.211865\n",
      "\tvalidation loss: 0.343992\n",
      "\tvalidation accuracy: 0.890\n",
      "Epoch 17 of 30 took 9.375s\n",
      "\t  training loss: 0.210052\n",
      "\tvalidation loss: 0.359200\n",
      "\tvalidation accuracy: 0.879\n",
      "Epoch 18 of 30 took 9.246s\n",
      "\t  training loss: 0.203808\n",
      "\tvalidation loss: 0.346001\n",
      "\tvalidation accuracy: 0.891\n",
      "Epoch 19 of 30 took 9.426s\n",
      "\t  training loss: 0.199440\n",
      "\tvalidation loss: 0.339979\n",
      "\tvalidation accuracy: 0.891\n",
      "Epoch 20 of 30 took 9.313s\n",
      "\t  training loss: 0.193989\n",
      "\tvalidation loss: 0.343531\n",
      "\tvalidation accuracy: 0.888\n",
      "Epoch 21 of 30 took 9.372s\n",
      "\t  training loss: 0.192396\n",
      "\tvalidation loss: 0.349651\n",
      "\tvalidation accuracy: 0.889\n",
      "Epoch 22 of 30 took 9.491s\n",
      "\t  training loss: 0.185028\n",
      "\tvalidation loss: 0.349183\n",
      "\tvalidation accuracy: 0.890\n",
      "Epoch 23 of 30 took 9.325s\n",
      "\t  training loss: 0.181647\n",
      "\tvalidation loss: 0.348222\n",
      "\tvalidation accuracy: 0.889\n",
      "Epoch 24 of 30 took 9.335s\n",
      "\t  training loss: 0.177672\n",
      "\tvalidation loss: 0.358849\n",
      "\tvalidation accuracy: 0.894\n",
      "Epoch 25 of 30 took 9.444s\n",
      "\t  training loss: 0.177480\n",
      "\tvalidation loss: 0.336959\n",
      "\tvalidation accuracy: 0.895\n",
      "Epoch 26 of 30 took 9.357s\n",
      "\t  training loss: 0.171251\n",
      "\tvalidation loss: 0.354018\n",
      "\tvalidation accuracy: 0.896\n",
      "Epoch 27 of 30 took 9.820s\n",
      "\t  training loss: 0.167926\n",
      "\tvalidation loss: 0.379835\n",
      "\tvalidation accuracy: 0.888\n",
      "Epoch 28 of 30 took 9.242s\n",
      "\t  training loss: 0.168173\n",
      "\tvalidation loss: 0.398027\n",
      "\tvalidation accuracy: 0.890\n",
      "Epoch 29 of 30 took 9.287s\n",
      "\t  training loss: 0.162618\n",
      "\tvalidation loss: 0.374636\n",
      "\tvalidation accuracy: 0.891\n",
      "Epoch 30 of 30 took 9.242s\n",
      "\t  training loss: 0.157297\n",
      "\tvalidation loss: 0.371722\n",
      "\tvalidation accuracy: 0.894\n"
     ]
    }
   ],
   "source": [
    "n_epochs = 30\n",
    "\n",
    "train_loss, val_loss, val_accuracy = train_model(model, train_loader, test_loader, loss_func, opt, n_epochs)"
   ]
  },
  {
   "cell_type": "code",
   "execution_count": 33,
   "metadata": {
    "id": "fkzVhXRboTHT"
   },
   "outputs": [],
   "source": [
    "def plot_train_process(train_loss, val_loss, val_accuracy):\n",
    "    fig, axes = plt.subplots(1, 2, figsize=(15, 5))\n",
    "\n",
    "    axes[0].set_title('Loss')\n",
    "    axes[0].set_xlabel('epochs')\n",
    "    axes[0].set_ylabel('loss')\n",
    "    axes[0].plot(train_loss, label='train')\n",
    "    axes[0].plot(val_loss, label='validation')\n",
    "    axes[0].legend()\n",
    "\n",
    "\n",
    "    axes[1].axhline(0.885, color='r', label=f'desired accuracy')\n",
    "    axes[1].set_title('Validation accuracy')\n",
    "    axes[1].set_xlabel('epochs')\n",
    "    axes[1].set_ylabel('accuracy')\n",
    "    axes[1].plot(val_accuracy)"
   ]
  },
  {
   "cell_type": "code",
   "execution_count": 34,
   "metadata": {
    "colab": {
     "base_uri": "https://localhost:8080/",
     "height": 350
    },
    "id": "dx_zOy_DoTqP",
    "outputId": "e18963e3-4709-4740-fa88-da698f613ed3"
   },
   "outputs": [
    {
     "data": {
      "image/png": "[encoded data removed]",
      "text/plain": [
       "<Figure size 1080x360 with 2 Axes>"
      ]
     },
     "metadata": {
      "needs_background": "light"
     },
     "output_type": "display_data"
    }
   ],
   "source": [
    "plot_train_process(train_loss, val_loss, val_accuracy)"
   ]
  },
  {
   "cell_type": "markdown",
   "metadata": {
    "id": "L7ISqkjmCPB1"
   },
   "source": [
    "### Task 2: Overfit it.\n",
    "Build a network that will overfit to this dataset. Demonstrate the overfitting in the appropriate way (e.g. plot loss and accurasy on train and test set w.r.t. network complexity).\n",
    "\n",
    "*Note:* you also might decrease the size of `train` dataset to enforce the overfitting and speed up the computations."
   ]
  },
  {
   "cell_type": "code",
   "execution_count": 39,
   "metadata": {
    "id": "Ut30ozsKuais"
   },
   "outputs": [],
   "source": [
    "train_loader_1 = torch.utils.data.DataLoader(fmnist_dataset_train, \n",
    "                                           batch_size=256,\n",
    "                                           shuffle=True,\n",
    "                                           num_workers=2)\n",
    "test_loader_1 = torch.utils.data.DataLoader(fmnist_dataset_test,\n",
    "                                          batch_size=128,\n",
    "                                          shuffle=False,\n",
    "                                          num_workers=2)"
   ]
  },
  {
   "cell_type": "code",
   "execution_count": 52,
   "metadata": {
    "id": "H12uAWiGBwJx"
   },
   "outputs": [],
   "source": [
    "class OverfittingNeuralNetwork(nn.Module):\n",
    "    def __init__(self, input_shape=28*28, num_classes=10, input_channels=1):\n",
    "        super(self.__class__, self).__init__()\n",
    "        self.model = nn.Sequential(\n",
    "            nn.Flatten(), # This layer converts image into a vector to use Linear layers afterwards\n",
    "            # Your network structure comes here\n",
    "            nn.Linear(input_shape, 200),\n",
    "            nn.ReLU(),\n",
    "            nn.BatchNorm1d(200),\n",
    "            nn.Linear(200, 10),\n",
    "        )\n",
    "        \n",
    "    def forward(self, inp):       \n",
    "        out = self.model(inp)\n",
    "        return out"
   ]
  },
  {
   "cell_type": "code",
   "execution_count": 53,
   "metadata": {
    "colab": {
     "base_uri": "https://localhost:8080/"
    },
    "id": "JgXAKCpvCwqH",
    "outputId": "2ed826b9-edb1-4d4c-d72d-37f860c84cc6"
   },
   "outputs": [
    {
     "name": "stdout",
     "output_type": "stream",
     "text": [
      "----------------------------------------------------------------\n",
      "        Layer (type)               Output Shape         Param #\n",
      "================================================================\n",
      "           Flatten-1                  [-1, 784]               0\n",
      "            Linear-2                  [-1, 200]         157,000\n",
      "              ReLU-3                  [-1, 200]               0\n",
      "       BatchNorm1d-4                  [-1, 200]             400\n",
      "            Linear-5                   [-1, 10]           2,010\n",
      "================================================================\n",
      "Total params: 159,410\n",
      "Trainable params: 159,410\n",
      "Non-trainable params: 0\n",
      "----------------------------------------------------------------\n",
      "Input size (MB): 0.00\n",
      "Forward/backward pass size (MB): 0.01\n",
      "Params size (MB): 0.61\n",
      "Estimated Total Size (MB): 0.62\n",
      "----------------------------------------------------------------\n"
     ]
    }
   ],
   "source": [
    "torchsummary.summary(OverfittingNeuralNetwork().to(device), (28*28,))"
   ]
  },
  {
   "cell_type": "code",
   "execution_count": 54,
   "metadata": {
    "id": "KoLdthGFk6nu"
   },
   "outputs": [],
   "source": [
    "model = OverfittingNeuralNetwork().to(device)\n",
    "opt = torch.optim.Adam(model.parameters(), lr=1e-3)\n",
    "loss_func = nn.CrossEntropyLoss()\n",
    "opt.zero_grad()\n",
    "# Your experiments, come here"
   ]
  },
  {
   "cell_type": "code",
   "execution_count": 55,
   "metadata": {
    "colab": {
     "base_uri": "https://localhost:8080/"
    },
    "id": "NM-gksDwvXjL",
    "outputId": "d3388341-d36b-4e34-b1a7-545b0ef9aeeb"
   },
   "outputs": [
    {
     "name": "stdout",
     "output_type": "stream",
     "text": [
      "Epoch 1 of 30 took 8.181s\n",
      "\t  training loss: 0.478508\n",
      "\tvalidation loss: 0.428973\n",
      "\tvalidation accuracy: 0.847\n",
      "Epoch 2 of 30 took 8.153s\n",
      "\t  training loss: 0.359733\n",
      "\tvalidation loss: 0.407808\n",
      "\tvalidation accuracy: 0.847\n",
      "Epoch 3 of 30 took 8.575s\n",
      "\t  training loss: 0.328134\n",
      "\tvalidation loss: 0.455594\n",
      "\tvalidation accuracy: 0.849\n",
      "Epoch 4 of 30 took 8.053s\n",
      "\t  training loss: 0.309638\n",
      "\tvalidation loss: 0.381496\n",
      "\tvalidation accuracy: 0.864\n",
      "Epoch 5 of 30 took 8.153s\n",
      "\t  training loss: 0.295620\n",
      "\tvalidation loss: 0.375106\n",
      "\tvalidation accuracy: 0.862\n",
      "Epoch 6 of 30 took 8.136s\n",
      "\t  training loss: 0.283496\n",
      "\tvalidation loss: 0.349555\n",
      "\tvalidation accuracy: 0.876\n",
      "Epoch 7 of 30 took 8.233s\n",
      "\t  training loss: 0.273150\n",
      "\tvalidation loss: 0.351825\n",
      "\tvalidation accuracy: 0.874\n",
      "Epoch 8 of 30 took 8.100s\n",
      "\t  training loss: 0.265014\n",
      "\tvalidation loss: 0.362702\n",
      "\tvalidation accuracy: 0.871\n",
      "Epoch 9 of 30 took 8.093s\n",
      "\t  training loss: 0.258173\n",
      "\tvalidation loss: 0.339979\n",
      "\tvalidation accuracy: 0.879\n",
      "Epoch 10 of 30 took 8.078s\n",
      "\t  training loss: 0.246603\n",
      "\tvalidation loss: 0.355899\n",
      "\tvalidation accuracy: 0.873\n",
      "Epoch 11 of 30 took 8.049s\n",
      "\t  training loss: 0.242182\n",
      "\tvalidation loss: 0.345973\n",
      "\tvalidation accuracy: 0.878\n",
      "Epoch 12 of 30 took 8.031s\n",
      "\t  training loss: 0.235413\n",
      "\tvalidation loss: 0.337202\n",
      "\tvalidation accuracy: 0.882\n",
      "Epoch 13 of 30 took 8.087s\n",
      "\t  training loss: 0.228329\n",
      "\tvalidation loss: 0.347348\n",
      "\tvalidation accuracy: 0.879\n",
      "Epoch 14 of 30 took 8.071s\n",
      "\t  training loss: 0.221133\n",
      "\tvalidation loss: 0.358511\n",
      "\tvalidation accuracy: 0.882\n",
      "Epoch 15 of 30 took 8.160s\n",
      "\t  training loss: 0.218330\n",
      "\tvalidation loss: 0.336454\n",
      "\tvalidation accuracy: 0.883\n",
      "Epoch 16 of 30 took 8.086s\n",
      "\t  training loss: 0.218831\n",
      "\tvalidation loss: 0.335062\n",
      "\tvalidation accuracy: 0.884\n",
      "Epoch 17 of 30 took 7.984s\n",
      "\t  training loss: 0.210464\n",
      "\tvalidation loss: 0.357412\n",
      "\tvalidation accuracy: 0.875\n",
      "Epoch 18 of 30 took 8.183s\n",
      "\t  training loss: 0.204014\n",
      "\tvalidation loss: 0.341270\n",
      "\tvalidation accuracy: 0.886\n",
      "Epoch 19 of 30 took 8.105s\n",
      "\t  training loss: 0.198376\n",
      "\tvalidation loss: 0.368058\n",
      "\tvalidation accuracy: 0.875\n",
      "Epoch 20 of 30 took 8.045s\n",
      "\t  training loss: 0.192124\n",
      "\tvalidation loss: 0.367566\n",
      "\tvalidation accuracy: 0.877\n",
      "Epoch 21 of 30 took 8.153s\n",
      "\t  training loss: 0.190931\n",
      "\tvalidation loss: 0.373353\n",
      "\tvalidation accuracy: 0.878\n",
      "Epoch 22 of 30 took 8.033s\n",
      "\t  training loss: 0.189259\n",
      "\tvalidation loss: 0.381084\n",
      "\tvalidation accuracy: 0.880\n",
      "Epoch 23 of 30 took 8.062s\n",
      "\t  training loss: 0.182515\n",
      "\tvalidation loss: 0.364729\n",
      "\tvalidation accuracy: 0.881\n",
      "Epoch 24 of 30 took 8.107s\n",
      "\t  training loss: 0.178920\n",
      "\tvalidation loss: 0.364895\n",
      "\tvalidation accuracy: 0.887\n",
      "Epoch 25 of 30 took 8.089s\n",
      "\t  training loss: 0.175240\n",
      "\tvalidation loss: 0.365983\n",
      "\tvalidation accuracy: 0.883\n",
      "Epoch 26 of 30 took 8.098s\n",
      "\t  training loss: 0.174954\n",
      "\tvalidation loss: 0.357233\n",
      "\tvalidation accuracy: 0.889\n",
      "Epoch 27 of 30 took 8.056s\n",
      "\t  training loss: 0.172234\n",
      "\tvalidation loss: 0.368448\n",
      "\tvalidation accuracy: 0.881\n",
      "Epoch 28 of 30 took 7.939s\n",
      "\t  training loss: 0.165079\n",
      "\tvalidation loss: 0.374124\n",
      "\tvalidation accuracy: 0.883\n",
      "Epoch 29 of 30 took 8.020s\n",
      "\t  training loss: 0.163039\n",
      "\tvalidation loss: 0.391268\n",
      "\tvalidation accuracy: 0.881\n",
      "Epoch 30 of 30 took 8.065s\n",
      "\t  training loss: 0.164869\n",
      "\tvalidation loss: 0.385842\n",
      "\tvalidation accuracy: 0.881\n"
     ]
    }
   ],
   "source": [
    "n_epochs = 30\n",
    "\n",
    "train_loss, val_loss, val_accuracy = train_model(model, train_loader_1, test_loader_1, loss_func, opt, n_epochs)"
   ]
  },
  {
   "cell_type": "code",
   "execution_count": 58,
   "metadata": {
    "id": "lFqDjFxUvdAi"
   },
   "outputs": [],
   "source": [
    "def plot_train_process(train_loss, val_loss, val_accuracy):\n",
    "    fig, axes = plt.subplots(1, 2, figsize=(15, 5))\n",
    "\n",
    "    axes[0].set_title('Loss')\n",
    "    axes[0].plot(train_loss, label='train')\n",
    "    axes[0].plot(val_loss, label='validation with normalixation')\n",
    "    axes[0].legend()\n",
    "\n",
    "    axes[1].set_title('Validation accuracy')\n",
    "    axes[1].plot(val_accuracy)"
   ]
  },
  {
   "cell_type": "code",
   "execution_count": 59,
   "metadata": {
    "colab": {
     "base_uri": "https://localhost:8080/",
     "height": 336
    },
    "id": "kNnqoJU8vdsC",
    "outputId": "e0bc12ba-57bd-4caa-8b11-c3abfa614585"
   },
   "outputs": [
    {
     "data": {
      "image/png": "[encoded data removed]",
      "text/plain": [
       "<Figure size 1080x360 with 2 Axes>"
      ]
     },
     "metadata": {
      "needs_background": "light"
     },
     "output_type": "display_data"
    }
   ],
   "source": [
    "plot_train_process(train_loss, val_loss, val_accuracy)"
   ]
  },
  {
   "cell_type": "code",
   "execution_count": 60,
   "metadata": {
    "colab": {
     "base_uri": "https://localhost:8080/",
     "height": 1000
    },
    "id": "quJKgjdx0YWN",
    "outputId": "6940ea9f-1c7f-4191-b989-d6d8decd491a"
   },
   "outputs": [
    {
     "name": "stdout",
     "output_type": "stream",
     "text": [
      "----------------------------------------------------------------\n",
      "        Layer (type)               Output Shape         Param #\n",
      "================================================================\n",
      "           Flatten-1                  [-1, 784]               0\n",
      "            Linear-2                  [-1, 200]         157,000\n",
      "              ReLU-3                  [-1, 200]               0\n",
      "            Linear-4                   [-1, 10]           2,010\n",
      "================================================================\n",
      "Total params: 159,010\n",
      "Trainable params: 159,010\n",
      "Non-trainable params: 0\n",
      "----------------------------------------------------------------\n",
      "Input size (MB): 0.00\n",
      "Forward/backward pass size (MB): 0.01\n",
      "Params size (MB): 0.61\n",
      "Estimated Total Size (MB): 0.62\n",
      "----------------------------------------------------------------\n",
      "Epoch 1 of 30 took 7.855s\n",
      "\t  training loss: 0.633242\n",
      "\tvalidation loss: 0.487937\n",
      "\tvalidation accuracy: 0.830\n",
      "Epoch 2 of 30 took 7.900s\n",
      "\t  training loss: 0.433425\n",
      "\tvalidation loss: 0.444850\n",
      "\tvalidation accuracy: 0.843\n",
      "Epoch 3 of 30 took 7.801s\n",
      "\t  training loss: 0.393457\n",
      "\tvalidation loss: 0.429154\n",
      "\tvalidation accuracy: 0.846\n",
      "Epoch 4 of 30 took 7.814s\n",
      "\t  training loss: 0.367488\n",
      "\tvalidation loss: 0.387580\n",
      "\tvalidation accuracy: 0.862\n",
      "Epoch 5 of 30 took 7.860s\n",
      "\t  training loss: 0.345844\n",
      "\tvalidation loss: 0.377299\n",
      "\tvalidation accuracy: 0.866\n",
      "Epoch 6 of 30 took 7.785s\n",
      "\t  training loss: 0.330026\n",
      "\tvalidation loss: 0.368374\n",
      "\tvalidation accuracy: 0.868\n",
      "Epoch 7 of 30 took 7.913s\n",
      "\t  training loss: 0.315938\n",
      "\tvalidation loss: 0.367092\n",
      "\tvalidation accuracy: 0.869\n",
      "Epoch 8 of 30 took 7.880s\n",
      "\t  training loss: 0.305440\n",
      "\tvalidation loss: 0.372716\n",
      "\tvalidation accuracy: 0.866\n",
      "Epoch 9 of 30 took 8.651s\n",
      "\t  training loss: 0.294095\n",
      "\tvalidation loss: 0.352296\n",
      "\tvalidation accuracy: 0.870\n",
      "Epoch 10 of 30 took 7.938s\n",
      "\t  training loss: 0.282347\n",
      "\tvalidation loss: 0.342072\n",
      "\tvalidation accuracy: 0.878\n",
      "Epoch 11 of 30 took 7.887s\n",
      "\t  training loss: 0.275628\n",
      "\tvalidation loss: 0.336419\n",
      "\tvalidation accuracy: 0.878\n",
      "Epoch 12 of 30 took 7.928s\n",
      "\t  training loss: 0.270230\n",
      "\tvalidation loss: 0.334220\n",
      "\tvalidation accuracy: 0.881\n",
      "Epoch 13 of 30 took 7.930s\n",
      "\t  training loss: 0.259072\n",
      "\tvalidation loss: 0.331804\n",
      "\tvalidation accuracy: 0.880\n",
      "Epoch 14 of 30 took 7.821s\n",
      "\t  training loss: 0.250753\n",
      "\tvalidation loss: 0.325547\n",
      "\tvalidation accuracy: 0.883\n",
      "Epoch 15 of 30 took 7.909s\n",
      "\t  training loss: 0.244986\n",
      "\tvalidation loss: 0.326300\n",
      "\tvalidation accuracy: 0.884\n",
      "Epoch 16 of 30 took 7.972s\n",
      "\t  training loss: 0.237579\n",
      "\tvalidation loss: 0.334578\n",
      "\tvalidation accuracy: 0.882\n",
      "Epoch 17 of 30 took 7.872s\n",
      "\t  training loss: 0.234282\n",
      "\tvalidation loss: 0.337584\n",
      "\tvalidation accuracy: 0.881\n",
      "Epoch 18 of 30 took 7.908s\n",
      "\t  training loss: 0.227651\n",
      "\tvalidation loss: 0.326317\n",
      "\tvalidation accuracy: 0.884\n",
      "Epoch 19 of 30 took 7.891s\n",
      "\t  training loss: 0.221761\n",
      "\tvalidation loss: 0.321953\n",
      "\tvalidation accuracy: 0.883\n",
      "Epoch 20 of 30 took 7.936s\n",
      "\t  training loss: 0.218075\n",
      "\tvalidation loss: 0.337036\n",
      "\tvalidation accuracy: 0.884\n",
      "Epoch 21 of 30 took 7.956s\n",
      "\t  training loss: 0.213349\n",
      "\tvalidation loss: 0.326147\n",
      "\tvalidation accuracy: 0.888\n",
      "Epoch 22 of 30 took 7.873s\n",
      "\t  training loss: 0.205806\n",
      "\tvalidation loss: 0.344881\n",
      "\tvalidation accuracy: 0.884\n",
      "Epoch 23 of 30 took 7.900s\n",
      "\t  training loss: 0.205921\n",
      "\tvalidation loss: 0.341679\n",
      "\tvalidation accuracy: 0.883\n",
      "Epoch 24 of 30 took 7.952s\n",
      "\t  training loss: 0.198620\n",
      "\tvalidation loss: 0.327131\n",
      "\tvalidation accuracy: 0.889\n",
      "Epoch 25 of 30 took 7.826s\n",
      "\t  training loss: 0.192412\n",
      "\tvalidation loss: 0.316925\n",
      "\tvalidation accuracy: 0.891\n",
      "Epoch 26 of 30 took 7.979s\n",
      "\t  training loss: 0.188151\n",
      "\tvalidation loss: 0.324074\n",
      "\tvalidation accuracy: 0.891\n",
      "Epoch 27 of 30 took 7.866s\n",
      "\t  training loss: 0.187713\n",
      "\tvalidation loss: 0.341645\n",
      "\tvalidation accuracy: 0.883\n",
      "Epoch 28 of 30 took 7.880s\n",
      "\t  training loss: 0.182444\n",
      "\tvalidation loss: 0.340084\n",
      "\tvalidation accuracy: 0.886\n",
      "Epoch 29 of 30 took 7.875s\n",
      "\t  training loss: 0.177484\n",
      "\tvalidation loss: 0.317921\n",
      "\tvalidation accuracy: 0.890\n",
      "Epoch 30 of 30 took 7.865s\n",
      "\t  training loss: 0.174862\n",
      "\tvalidation loss: 0.323448\n",
      "\tvalidation accuracy: 0.892\n"
     ]
    },
    {
     "data": {
      "image/png": "[encoded data removed]",
      "text/plain": [
       "<Figure size 1080x360 with 2 Axes>"
      ]
     },
     "metadata": {
      "needs_background": "light"
     },
     "output_type": "display_data"
    }
   ],
   "source": [
    "class OverfittingNeuralNetwork_1(nn.Module):\n",
    "    def __init__(self, input_shape=28*28, num_classes=10, input_channels=1):\n",
    "        super(self.__class__, self).__init__()\n",
    "        self.model = nn.Sequential(\n",
    "            nn.Flatten(), # This layer converts image into a vector to use Linear layers afterwards\n",
    "            # Your network structure comes here\n",
    "            nn.Linear(input_shape, 200),\n",
    "            nn.ReLU(),\n",
    "            nn.Linear(200, 10),\n",
    "        )\n",
    "        \n",
    "    def forward(self, inp):       \n",
    "        out = self.model(inp)\n",
    "        return out\n",
    "torchsummary.summary(OverfittingNeuralNetwork_1().to(device), (28*28,))\n",
    "model = OverfittingNeuralNetwork_1().to(device)\n",
    "opt = torch.optim.Adam(model.parameters(), lr=1e-3)\n",
    "loss_func = nn.CrossEntropyLoss()\n",
    "opt.zero_grad()\n",
    "n_epochs = 30\n",
    "train_loss, val_loss, val_accuracy = train_model(model, train_loader_1, test_loader_1, loss_func, opt, n_epochs)\n",
    "def plot_train_process_1(train_loss, val_loss, val_accuracy):\n",
    "    fig, axes = plt.subplots(1, 2, figsize=(15, 5))\n",
    "\n",
    "    axes[0].set_title('Loss')\n",
    "    axes[0].plot(train_loss, label='train')\n",
    "    axes[0].plot(val_loss, label='validation without normalixation')\n",
    "    axes[0].legend()\n",
    "\n",
    "    axes[1].set_title('Validation accuracy')\n",
    "    axes[1].plot(val_accuracy)\n",
    "plot_train_process_1(train_loss, val_loss, val_accuracy)"
   ]
  },
  {
   "cell_type": "markdown",
   "metadata": {
    "id": "OzDB-r3M2J3F"
   },
   "source": [
    "Я поменял размеры тестовой и тренировочной выборки местами, и на первом графике видно, что при значительном падении loss на обучающей выборке, loss на тренировочной выборке почти не меняется.\n",
    "\n",
    "Странно, что при добавлении Нормализации после модуля ReLU результаты хуже"
   ]
  },
  {
   "cell_type": "markdown",
   "metadata": {
    "id": "1H4YpgZvk6nu"
   },
   "source": [
    "### Task 3: Fix it.\n",
    "Fix the overfitted network from the previous step (at least partially) by using regularization techniques (Dropout/Batchnorm/...) and demonstrate the results. "
   ]
  },
  {
   "cell_type": "code",
   "execution_count": 68,
   "metadata": {
    "id": "ukBKqg3ok6nu"
   },
   "outputs": [],
   "source": [
    "class FixedNeuralNetwork(nn.Module):\n",
    "    def __init__(self, input_shape=28*28, num_classes=10, input_channels=1):\n",
    "        super(self.__class__, self).__init__()\n",
    "        self.model = nn.Sequential(\n",
    "            nn.Flatten(), # This layer converts image into a vector to use Linear layers afterwards\n",
    "            # Your network structure comes here\n",
    "            nn.Linear(input_shape, 500),\n",
    "            nn.ReLU(),\n",
    "            nn.BatchNorm1d(500),\n",
    "            nn.Linear(500, 200),\n",
    "            nn.ReLU(),\n",
    "            nn.ELU(),\n",
    "            nn.BatchNorm1d(200),\n",
    "            nn.Dropout(p = 0.3),\n",
    "            nn.Softmax(dim=1),\n",
    "            nn.BatchNorm1d(200),\n",
    "            nn.Linear(200, 100),\n",
    "            nn.Dropout(p = 0.5),\n",
    "            nn.Softplus(),\n",
    "            nn.Linear(100, 10)\n",
    "        )\n",
    "        \n",
    "    def forward(self, inp):       \n",
    "        out = self.model(inp)\n",
    "        return out"
   ]
  },
  {
   "cell_type": "code",
   "execution_count": 69,
   "metadata": {
    "colab": {
     "base_uri": "https://localhost:8080/"
    },
    "id": "2bkNg1I3k6nv",
    "outputId": "0c136b27-7b38-4511-c8d9-5627b9f9ca5b"
   },
   "outputs": [
    {
     "name": "stdout",
     "output_type": "stream",
     "text": [
      "----------------------------------------------------------------\n",
      "        Layer (type)               Output Shape         Param #\n",
      "================================================================\n",
      "           Flatten-1                  [-1, 784]               0\n",
      "            Linear-2                  [-1, 500]         392,500\n",
      "              ReLU-3                  [-1, 500]               0\n",
      "       BatchNorm1d-4                  [-1, 500]           1,000\n",
      "            Linear-5                  [-1, 200]         100,200\n",
      "              ReLU-6                  [-1, 200]               0\n",
      "               ELU-7                  [-1, 200]               0\n",
      "       BatchNorm1d-8                  [-1, 200]             400\n",
      "           Dropout-9                  [-1, 200]               0\n",
      "          Softmax-10                  [-1, 200]               0\n",
      "      BatchNorm1d-11                  [-1, 200]             400\n",
      "           Linear-12                  [-1, 100]          20,100\n",
      "          Dropout-13                  [-1, 100]               0\n",
      "         Softplus-14                  [-1, 100]               0\n",
      "           Linear-15                   [-1, 10]           1,010\n",
      "================================================================\n",
      "Total params: 515,610\n",
      "Trainable params: 515,610\n",
      "Non-trainable params: 0\n",
      "----------------------------------------------------------------\n",
      "Input size (MB): 0.00\n",
      "Forward/backward pass size (MB): 0.03\n",
      "Params size (MB): 1.97\n",
      "Estimated Total Size (MB): 2.00\n",
      "----------------------------------------------------------------\n"
     ]
    }
   ],
   "source": [
    "torchsummary.summary(FixedNeuralNetwork().to(device), (28*28,))"
   ]
  },
  {
   "cell_type": "code",
   "execution_count": 70,
   "metadata": {
    "colab": {
     "base_uri": "https://localhost:8080/",
     "height": 1000
    },
    "id": "Kd4LKbGBk6nv",
    "outputId": "94d79af5-eeaf-4168-fe69-c79998e06537"
   },
   "outputs": [
    {
     "name": "stdout",
     "output_type": "stream",
     "text": [
      "Epoch 1 of 60 took 10.314s\n",
      "\t  training loss: 0.573796\n",
      "\tvalidation loss: 0.444958\n",
      "\tvalidation accuracy: 0.845\n",
      "Epoch 2 of 60 took 10.315s\n",
      "\t  training loss: 0.413799\n",
      "\tvalidation loss: 0.431393\n",
      "\tvalidation accuracy: 0.845\n",
      "Epoch 3 of 60 took 10.216s\n",
      "\t  training loss: 0.376094\n",
      "\tvalidation loss: 0.391070\n",
      "\tvalidation accuracy: 0.863\n",
      "Epoch 4 of 60 took 10.165s\n",
      "\t  training loss: 0.362750\n",
      "\tvalidation loss: 0.393956\n",
      "\tvalidation accuracy: 0.861\n",
      "Epoch 5 of 60 took 10.220s\n",
      "\t  training loss: 0.345985\n",
      "\tvalidation loss: 0.378561\n",
      "\tvalidation accuracy: 0.865\n",
      "Epoch 6 of 60 took 10.714s\n",
      "\t  training loss: 0.331543\n",
      "\tvalidation loss: 0.356245\n",
      "\tvalidation accuracy: 0.869\n",
      "Epoch 7 of 60 took 10.202s\n",
      "\t  training loss: 0.318181\n",
      "\tvalidation loss: 0.343568\n",
      "\tvalidation accuracy: 0.877\n",
      "Epoch 8 of 60 took 10.159s\n",
      "\t  training loss: 0.301997\n",
      "\tvalidation loss: 0.345174\n",
      "\tvalidation accuracy: 0.877\n",
      "Epoch 9 of 60 took 10.251s\n",
      "\t  training loss: 0.296292\n",
      "\tvalidation loss: 0.373489\n",
      "\tvalidation accuracy: 0.863\n",
      "Epoch 10 of 60 took 10.126s\n",
      "\t  training loss: 0.291939\n",
      "\tvalidation loss: 0.366224\n",
      "\tvalidation accuracy: 0.865\n",
      "Epoch 11 of 60 took 10.253s\n",
      "\t  training loss: 0.284674\n",
      "\tvalidation loss: 0.350760\n",
      "\tvalidation accuracy: 0.875\n",
      "Epoch 12 of 60 took 10.066s\n",
      "\t  training loss: 0.278003\n",
      "\tvalidation loss: 0.337768\n",
      "\tvalidation accuracy: 0.883\n",
      "Epoch 13 of 60 took 10.171s\n",
      "\t  training loss: 0.271277\n",
      "\tvalidation loss: 0.338283\n",
      "\tvalidation accuracy: 0.882\n",
      "Epoch 14 of 60 took 10.178s\n",
      "\t  training loss: 0.261901\n",
      "\tvalidation loss: 0.337242\n",
      "\tvalidation accuracy: 0.880\n",
      "Epoch 15 of 60 took 10.218s\n",
      "\t  training loss: 0.260204\n",
      "\tvalidation loss: 0.331440\n",
      "\tvalidation accuracy: 0.884\n",
      "Epoch 16 of 60 took 10.079s\n",
      "\t  training loss: 0.255033\n",
      "\tvalidation loss: 0.364123\n",
      "\tvalidation accuracy: 0.875\n",
      "Epoch 17 of 60 took 10.080s\n",
      "\t  training loss: 0.249923\n",
      "\tvalidation loss: 0.350646\n",
      "\tvalidation accuracy: 0.877\n",
      "Epoch 18 of 60 took 10.151s\n",
      "\t  training loss: 0.246718\n",
      "\tvalidation loss: 0.343058\n",
      "\tvalidation accuracy: 0.880\n",
      "Epoch 19 of 60 took 10.171s\n",
      "\t  training loss: 0.243820\n",
      "\tvalidation loss: 0.335856\n",
      "\tvalidation accuracy: 0.884\n",
      "Epoch 20 of 60 took 10.025s\n",
      "\t  training loss: 0.236244\n",
      "\tvalidation loss: 0.318715\n",
      "\tvalidation accuracy: 0.888\n",
      "Epoch 21 of 60 took 10.102s\n",
      "\t  training loss: 0.231423\n",
      "\tvalidation loss: 0.338246\n",
      "\tvalidation accuracy: 0.881\n",
      "Epoch 22 of 60 took 10.063s\n",
      "\t  training loss: 0.230299\n",
      "\tvalidation loss: 0.331704\n",
      "\tvalidation accuracy: 0.883\n",
      "Epoch 23 of 60 took 10.114s\n",
      "\t  training loss: 0.224013\n",
      "\tvalidation loss: 0.323613\n",
      "\tvalidation accuracy: 0.886\n",
      "Epoch 24 of 60 took 10.104s\n",
      "\t  training loss: 0.218544\n",
      "\tvalidation loss: 0.337546\n",
      "\tvalidation accuracy: 0.882\n",
      "Epoch 25 of 60 took 10.139s\n",
      "\t  training loss: 0.222781\n",
      "\tvalidation loss: 0.333582\n",
      "\tvalidation accuracy: 0.889\n",
      "Epoch 26 of 60 took 10.090s\n",
      "\t  training loss: 0.215215\n",
      "\tvalidation loss: 0.351771\n",
      "\tvalidation accuracy: 0.886\n",
      "Epoch 27 of 60 took 10.021s\n",
      "\t  training loss: 0.209043\n",
      "\tvalidation loss: 0.359184\n",
      "\tvalidation accuracy: 0.883\n",
      "Epoch 28 of 60 took 10.115s\n",
      "\t  training loss: 0.208557\n",
      "\tvalidation loss: 0.359080\n",
      "\tvalidation accuracy: 0.878\n",
      "Epoch 29 of 60 took 10.039s\n",
      "\t  training loss: 0.201014\n",
      "\tvalidation loss: 0.370556\n",
      "\tvalidation accuracy: 0.879\n",
      "Epoch 30 of 60 took 10.145s\n",
      "\t  training loss: 0.200159\n",
      "\tvalidation loss: 0.349206\n",
      "\tvalidation accuracy: 0.886\n",
      "Epoch 31 of 60 took 10.151s\n",
      "\t  training loss: 0.197459\n",
      "\tvalidation loss: 0.343681\n",
      "\tvalidation accuracy: 0.887\n",
      "Epoch 32 of 60 took 10.099s\n",
      "\t  training loss: 0.196988\n",
      "\tvalidation loss: 0.342904\n",
      "\tvalidation accuracy: 0.889\n",
      "Epoch 33 of 60 took 10.097s\n",
      "\t  training loss: 0.193193\n",
      "\tvalidation loss: 0.344772\n",
      "\tvalidation accuracy: 0.889\n",
      "Epoch 34 of 60 took 10.156s\n",
      "\t  training loss: 0.187772\n",
      "\tvalidation loss: 0.363254\n",
      "\tvalidation accuracy: 0.885\n",
      "Epoch 35 of 60 took 10.215s\n",
      "\t  training loss: 0.186623\n",
      "\tvalidation loss: 0.359309\n",
      "\tvalidation accuracy: 0.887\n",
      "Epoch 36 of 60 took 10.240s\n",
      "\t  training loss: 0.184165\n",
      "\tvalidation loss: 0.392465\n",
      "\tvalidation accuracy: 0.889\n",
      "Epoch 37 of 60 took 10.159s\n",
      "\t  training loss: 0.181343\n",
      "\tvalidation loss: 0.372468\n",
      "\tvalidation accuracy: 0.885\n",
      "Epoch 38 of 60 took 10.133s\n",
      "\t  training loss: 0.178638\n",
      "\tvalidation loss: 0.366033\n",
      "\tvalidation accuracy: 0.886\n",
      "Epoch 39 of 60 took 10.073s\n",
      "\t  training loss: 0.178538\n",
      "\tvalidation loss: 0.364058\n",
      "\tvalidation accuracy: 0.885\n",
      "Epoch 40 of 60 took 10.015s\n",
      "\t  training loss: 0.176276\n",
      "\tvalidation loss: 0.359065\n",
      "\tvalidation accuracy: 0.891\n",
      "Epoch 41 of 60 took 10.024s\n",
      "\t  training loss: 0.176351\n",
      "\tvalidation loss: 0.363631\n",
      "\tvalidation accuracy: 0.882\n",
      "Epoch 42 of 60 took 10.045s\n",
      "\t  training loss: 0.172393\n",
      "\tvalidation loss: 0.369081\n",
      "\tvalidation accuracy: 0.891\n",
      "Epoch 43 of 60 took 10.149s\n",
      "\t  training loss: 0.174311\n",
      "\tvalidation loss: 0.361225\n",
      "\tvalidation accuracy: 0.889\n",
      "Epoch 44 of 60 took 10.171s\n",
      "\t  training loss: 0.170331\n",
      "\tvalidation loss: 0.364102\n",
      "\tvalidation accuracy: 0.888\n",
      "Epoch 45 of 60 took 10.249s\n",
      "\t  training loss: 0.164593\n",
      "\tvalidation loss: 0.360805\n",
      "\tvalidation accuracy: 0.889\n",
      "Epoch 46 of 60 took 10.159s\n",
      "\t  training loss: 0.163656\n",
      "\tvalidation loss: 0.372422\n",
      "\tvalidation accuracy: 0.890\n",
      "Epoch 47 of 60 took 10.101s\n",
      "\t  training loss: 0.166786\n",
      "\tvalidation loss: 0.383768\n",
      "\tvalidation accuracy: 0.886\n",
      "Epoch 48 of 60 took 10.239s\n",
      "\t  training loss: 0.162194\n",
      "\tvalidation loss: 0.380515\n",
      "\tvalidation accuracy: 0.886\n",
      "Epoch 49 of 60 took 10.218s\n",
      "\t  training loss: 0.162979\n",
      "\tvalidation loss: 0.399685\n",
      "\tvalidation accuracy: 0.886\n",
      "Epoch 50 of 60 took 10.182s\n",
      "\t  training loss: 0.157829\n",
      "\tvalidation loss: 0.413136\n",
      "\tvalidation accuracy: 0.889\n",
      "Epoch 51 of 60 took 10.169s\n",
      "\t  training loss: 0.156159\n",
      "\tvalidation loss: 0.376771\n",
      "\tvalidation accuracy: 0.886\n",
      "Epoch 52 of 60 took 10.010s\n",
      "\t  training loss: 0.157155\n",
      "\tvalidation loss: 0.392658\n",
      "\tvalidation accuracy: 0.883\n",
      "Epoch 53 of 60 took 10.177s\n",
      "\t  training loss: 0.152256\n",
      "\tvalidation loss: 0.397586\n",
      "\tvalidation accuracy: 0.887\n",
      "Epoch 54 of 60 took 9.963s\n",
      "\t  training loss: 0.151577\n",
      "\tvalidation loss: 0.401625\n",
      "\tvalidation accuracy: 0.886\n",
      "Epoch 55 of 60 took 10.164s\n",
      "\t  training loss: 0.147963\n",
      "\tvalidation loss: 0.395380\n",
      "\tvalidation accuracy: 0.887\n",
      "Epoch 56 of 60 took 10.217s\n",
      "\t  training loss: 0.154435\n",
      "\tvalidation loss: 0.378704\n",
      "\tvalidation accuracy: 0.892\n",
      "Epoch 57 of 60 took 10.227s\n",
      "\t  training loss: 0.149690\n",
      "\tvalidation loss: 0.402282\n",
      "\tvalidation accuracy: 0.892\n",
      "Epoch 58 of 60 took 10.252s\n",
      "\t  training loss: 0.151698\n",
      "\tvalidation loss: 0.397616\n",
      "\tvalidation accuracy: 0.884\n",
      "Epoch 59 of 60 took 10.089s\n",
      "\t  training loss: 0.144492\n",
      "\tvalidation loss: 0.393376\n",
      "\tvalidation accuracy: 0.888\n",
      "Epoch 60 of 60 took 10.132s\n",
      "\t  training loss: 0.146220\n",
      "\tvalidation loss: 0.401931\n",
      "\tvalidation accuracy: 0.889\n"
     ]
    },
    {
     "data": {
      "image/png": "[encoded data removed]",
      "text/plain": [
       "<Figure size 1080x360 with 2 Axes>"
      ]
     },
     "metadata": {
      "needs_background": "light"
     },
     "output_type": "display_data"
    }
   ],
   "source": [
    "model = FixedNeuralNetwork().to(device)\n",
    "opt = torch.optim.Adam(model.parameters(), lr=1e-3)\n",
    "loss_func = nn.CrossEntropyLoss()\n",
    "opt.zero_grad()\n",
    "# Your experiments, come here\n",
    "n_epochs = 60\n",
    "\n",
    "train_loss, val_loss, val_accuracy = train_model(model, train_loader, test_loader, loss_func, opt, n_epochs)\n",
    "plot_train_process(train_loss, val_loss, val_accuracy)"
   ]
  },
  {
   "cell_type": "markdown",
   "metadata": {
    "id": "dMui_uLJ7G0d"
   },
   "source": [
    "### Conclusions:\n",
    "_Write down small report with your conclusions and your ideas._\n"
   ]
  }
 ],
 "metadata": {
  "accelerator": "GPU",
  "colab": {
   "collapsed_sections": [],
   "name": "Overfit it.ipynb",
   "provenance": []
  },
  "kernelspec": {
   "display_name": "Python 3 (ipykernel)",
   "language": "python",
   "name": "python3"
  },
  "language_info": {
   "codemirror_mode": {
    "name": "ipython",
    "version": 3
   },
   "file_extension": ".py",
   "mimetype": "text/x-python",
   "name": "python",
   "nbconvert_exporter": "python",
   "pygments_lexer": "ipython3",
   "version": "3.8.10"
  }
 },
 "nbformat": 4,
 "nbformat_minor": 1
}
